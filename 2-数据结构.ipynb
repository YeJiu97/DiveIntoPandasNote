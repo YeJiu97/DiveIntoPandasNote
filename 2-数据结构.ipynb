{
 "cells": [
  {
   "cell_type": "markdown",
   "id": "22c5e353-19f3-48c9-8c40-aec3d6d07e5a",
   "metadata": {},
   "source": [
    "## 2.1 数据结构概述"
   ]
  },
  {
   "cell_type": "markdown",
   "id": "397ba0a9-1546-4383-9caf-7a9d7ed1b4e3",
   "metadata": {},
   "source": [
    "数据（Data）是我们对客观世界的记录。\n",
    "\n",
    "数据结构（Data structure）是组织数据、存储数据的方式。"
   ]
  },
  {
   "cell_type": "markdown",
   "id": "1fb3bd6d-6f7f-470f-b361-a7b4846aae7c",
   "metadata": {},
   "source": [
    "## 2.2 Python的数据结构"
   ]
  },
  {
   "cell_type": "markdown",
   "id": "953792c7-4381-4696-8e46-e506609a9a7b",
   "metadata": {},
   "source": [
    "以是否可变，Python的数据结构可以分为两种：\n",
    "\n",
    "1. 不可变数据：Number，String，Tuple\n",
    "2. 可变数据：List，Dictionary，Set\n",
    "\n",
    "如果不确定一个对象是什么数据类型，可以使用type()来进行查看："
   ]
  },
  {
   "cell_type": "code",
   "execution_count": 291,
   "id": "54a8a4d9-6429-47c5-8bee-a18c58d9a8ef",
   "metadata": {},
   "outputs": [
    {
     "data": {
      "text/plain": [
       "int"
      ]
     },
     "execution_count": 291,
     "metadata": {},
     "output_type": "execute_result"
    }
   ],
   "source": [
    "a = 10\n",
    "type(a)"
   ]
  },
  {
   "cell_type": "code",
   "execution_count": 292,
   "id": "0742f132-80cf-4f25-9002-ae1ea6c42025",
   "metadata": {},
   "outputs": [
    {
     "data": {
      "text/plain": [
       "list"
      ]
     },
     "execution_count": 292,
     "metadata": {},
     "output_type": "execute_result"
    }
   ],
   "source": [
    "b = [1, 2, 3, 4]\n",
    "type(b)"
   ]
  },
  {
   "cell_type": "markdown",
   "id": "e642e811-2ab1-4a54-97f9-7f5480493963",
   "metadata": {},
   "source": [
    "或者可以使用isinstance()来查看是否是指定类型的数据："
   ]
  },
  {
   "cell_type": "code",
   "execution_count": 293,
   "id": "6cf776e3-a249-45e9-b096-10c2f7f9a628",
   "metadata": {},
   "outputs": [
    {
     "data": {
      "text/plain": [
       "True"
      ]
     },
     "execution_count": 293,
     "metadata": {},
     "output_type": "execute_result"
    }
   ],
   "source": [
    "c = 'Hello World'\n",
    "isinstance(c, str)"
   ]
  },
  {
   "cell_type": "markdown",
   "id": "5ad069c4-1e2a-4470-8422-230a0d167380",
   "metadata": {},
   "source": [
    "**数字**"
   ]
  },
  {
   "cell_type": "markdown",
   "id": "d19c8ef6-0875-4d3d-bd9b-01d843d1a567",
   "metadata": {},
   "source": [
    "Python的数字类型有以下三种："
   ]
  },
  {
   "cell_type": "code",
   "execution_count": 294,
   "id": "70a28ff2-f79e-4077-83a9-8dce3fa614d2",
   "metadata": {},
   "outputs": [],
   "source": [
    "one = 10          # int，整类\n",
    "two = 3.1415926   # float，浮点\n",
    "three = 1j        # complex，复数"
   ]
  },
  {
   "cell_type": "markdown",
   "id": "c876b815-6d52-4734-a1f2-39715d167786",
   "metadata": {},
   "source": [
    "**字符串**"
   ]
  },
  {
   "cell_type": "markdown",
   "id": "bbfbb7e1-03c1-4426-9892-80c38b16d48b",
   "metadata": {},
   "source": [
    "字符串则是一条或者多条文本信息，单个字符也会被视作是字符串："
   ]
  },
  {
   "cell_type": "code",
   "execution_count": 295,
   "id": "3074955b-3b0d-4298-a94e-10556b93e879",
   "metadata": {},
   "outputs": [],
   "source": [
    "str_one = 'hello'"
   ]
  },
  {
   "cell_type": "code",
   "execution_count": 296,
   "id": "b193c363-eb3a-453f-8b8d-b560849b0791",
   "metadata": {},
   "outputs": [
    {
     "data": {
      "text/plain": [
       "'h'"
      ]
     },
     "execution_count": 296,
     "metadata": {},
     "output_type": "execute_result"
    }
   ],
   "source": [
    "str_one[0]  # 索引"
   ]
  },
  {
   "cell_type": "code",
   "execution_count": 297,
   "id": "d7cae0b2-7207-4fe9-8b1a-e9b0b7937d78",
   "metadata": {},
   "outputs": [
    {
     "data": {
      "text/plain": [
       "'hel'"
      ]
     },
     "execution_count": 297,
     "metadata": {},
     "output_type": "execute_result"
    }
   ],
   "source": [
    "str_one[:3]  # 从0到3（不包括3）"
   ]
  },
  {
   "cell_type": "code",
   "execution_count": 298,
   "id": "2b6a719b-8086-4121-8203-f2cc147f08ac",
   "metadata": {},
   "outputs": [
    {
     "data": {
      "text/plain": [
       "'l'"
      ]
     },
     "execution_count": 298,
     "metadata": {},
     "output_type": "execute_result"
    }
   ],
   "source": [
    "str_one[-2]  # 索引"
   ]
  },
  {
   "cell_type": "code",
   "execution_count": 299,
   "id": "14657560-a3a8-45bb-9225-a3db7d3fc65d",
   "metadata": {},
   "outputs": [
    {
     "data": {
      "text/plain": [
       "'hlo'"
      ]
     },
     "execution_count": 299,
     "metadata": {},
     "output_type": "execute_result"
    }
   ],
   "source": [
    "str_one[::2]  # 步长为2"
   ]
  },
  {
   "cell_type": "code",
   "execution_count": 300,
   "id": "f08e4113-4a9e-4b35-be76-1e392f3a214c",
   "metadata": {},
   "outputs": [
    {
     "data": {
      "text/plain": [
       "5"
      ]
     },
     "execution_count": 300,
     "metadata": {},
     "output_type": "execute_result"
    }
   ],
   "source": [
    "len(str_one)  # 长度"
   ]
  },
  {
   "cell_type": "code",
   "execution_count": 301,
   "id": "9e64ef0e-9a34-4ea9-b564-5188d1160054",
   "metadata": {},
   "outputs": [
    {
     "data": {
      "text/plain": [
       "'hexxo'"
      ]
     },
     "execution_count": 301,
     "metadata": {},
     "output_type": "execute_result"
    }
   ],
   "source": [
    "str_one.replace('l', 'x')  # 进行替换"
   ]
  },
  {
   "cell_type": "code",
   "execution_count": 302,
   "id": "2739d7c0-f8be-44c9-a0e5-d8589e93bb5b",
   "metadata": {},
   "outputs": [
    {
     "data": {
      "text/plain": [
       "'hello'"
      ]
     },
     "execution_count": 302,
     "metadata": {},
     "output_type": "execute_result"
    }
   ],
   "source": [
    "str_one"
   ]
  },
  {
   "cell_type": "code",
   "execution_count": 303,
   "id": "28dd3cc3-0e16-4073-8168-71620aaf754a",
   "metadata": {},
   "outputs": [
    {
     "data": {
      "text/plain": [
       "'HELLO'"
      ]
     },
     "execution_count": 303,
     "metadata": {},
     "output_type": "execute_result"
    }
   ],
   "source": [
    "str_one.upper()  # 全部大写"
   ]
  },
  {
   "cell_type": "code",
   "execution_count": 304,
   "id": "165b3e9f-0b0e-4278-a28a-f2fa9cf169e3",
   "metadata": {},
   "outputs": [
    {
     "data": {
      "text/plain": [
       "['he', '', 'o']"
      ]
     },
     "execution_count": 304,
     "metadata": {},
     "output_type": "execute_result"
    }
   ],
   "source": [
    "str_one.split('l')  # 使用l作为指定字符进行分割，返回list类型数据"
   ]
  },
  {
   "cell_type": "code",
   "execution_count": 305,
   "id": "39fd51b6-c504-47a0-9a06-0c6ec341cc7a",
   "metadata": {},
   "outputs": [
    {
     "data": {
      "text/plain": [
       "'hello world'"
      ]
     },
     "execution_count": 305,
     "metadata": {},
     "output_type": "execute_result"
    }
   ],
   "source": [
    "'HELLO WORLD'.lower()  # 全部小写"
   ]
  },
  {
   "cell_type": "code",
   "execution_count": 306,
   "id": "316afef0-9d2e-4d18-81d7-16b4ba617061",
   "metadata": {},
   "outputs": [
    {
     "data": {
      "text/plain": [
       "'hello WORLD'"
      ]
     },
     "execution_count": 306,
     "metadata": {},
     "output_type": "execute_result"
    }
   ],
   "source": [
    "'HELLO world'.swapcase()  # 大小写替换"
   ]
  },
  {
   "cell_type": "code",
   "execution_count": 307,
   "id": "68ed9bff-c24d-445e-83a4-8400d8b7fb06",
   "metadata": {},
   "outputs": [
    {
     "data": {
      "text/plain": [
       "'Hello world'"
      ]
     },
     "execution_count": 307,
     "metadata": {},
     "output_type": "execute_result"
    }
   ],
   "source": [
    "'hello world'.capitalize()  # 首字母大写"
   ]
  },
  {
   "cell_type": "code",
   "execution_count": 308,
   "id": "09628595-7eb7-4313-881a-f6dece91c6f8",
   "metadata": {},
   "outputs": [
    {
     "data": {
      "text/plain": [
       "False"
      ]
     },
     "execution_count": 308,
     "metadata": {},
     "output_type": "execute_result"
    }
   ],
   "source": [
    "'hello worlD'.islower()  # 判断是否全部小写"
   ]
  },
  {
   "cell_type": "code",
   "execution_count": 309,
   "id": "b6b57179-1c6b-4e4e-a022-db0de805f900",
   "metadata": {},
   "outputs": [
    {
     "data": {
      "text/plain": [
       "True"
      ]
     },
     "execution_count": 309,
     "metadata": {},
     "output_type": "execute_result"
    }
   ],
   "source": [
    "'HELLO WORLD'.isupper()  # 判断是否全部大写"
   ]
  },
  {
   "cell_type": "markdown",
   "id": "c474dbbf-d514-4e69-8cf7-e94cfcc619ab",
   "metadata": {},
   "source": [
    "**布尔类型**"
   ]
  },
  {
   "cell_type": "code",
   "execution_count": 310,
   "id": "daade3de-73ab-4206-84db-4d5f44fbf10c",
   "metadata": {},
   "outputs": [],
   "source": [
    "a = 0\n",
    "b = 1\n",
    "c = 2"
   ]
  },
  {
   "cell_type": "code",
   "execution_count": 311,
   "id": "28124da7-a522-40a0-9105-185589ec1ca5",
   "metadata": {},
   "outputs": [
    {
     "data": {
      "text/plain": [
       "False"
      ]
     },
     "execution_count": 311,
     "metadata": {},
     "output_type": "execute_result"
    }
   ],
   "source": [
    "a == b"
   ]
  },
  {
   "cell_type": "code",
   "execution_count": 312,
   "id": "031853a5-35f5-42cd-a165-1455b7e56083",
   "metadata": {},
   "outputs": [
    {
     "data": {
      "text/plain": [
       "False"
      ]
     },
     "execution_count": 312,
     "metadata": {},
     "output_type": "execute_result"
    }
   ],
   "source": [
    "c == b"
   ]
  },
  {
   "cell_type": "code",
   "execution_count": 313,
   "id": "66078a65-e68f-4dd3-a5da-0a0b75aaf884",
   "metadata": {},
   "outputs": [
    {
     "data": {
      "text/plain": [
       "True"
      ]
     },
     "execution_count": 313,
     "metadata": {},
     "output_type": "execute_result"
    }
   ],
   "source": [
    "a == a"
   ]
  },
  {
   "cell_type": "code",
   "execution_count": 314,
   "id": "59a410df-a5ea-48fa-8051-0ca7d83e1e2b",
   "metadata": {},
   "outputs": [
    {
     "data": {
      "text/plain": [
       "0"
      ]
     },
     "execution_count": 314,
     "metadata": {},
     "output_type": "execute_result"
    }
   ],
   "source": [
    "a and b"
   ]
  },
  {
   "cell_type": "code",
   "execution_count": 315,
   "id": "f6707bc7-d106-4503-bb6a-b83fd59fe1bf",
   "metadata": {},
   "outputs": [
    {
     "data": {
      "text/plain": [
       "0"
      ]
     },
     "execution_count": 315,
     "metadata": {},
     "output_type": "execute_result"
    }
   ],
   "source": [
    "b and a"
   ]
  },
  {
   "cell_type": "code",
   "execution_count": 316,
   "id": "40c0f6e5-c210-4298-acba-5ee34e4c4ac4",
   "metadata": {},
   "outputs": [
    {
     "data": {
      "text/plain": [
       "2"
      ]
     },
     "execution_count": 316,
     "metadata": {},
     "output_type": "execute_result"
    }
   ],
   "source": [
    "b and c"
   ]
  },
  {
   "cell_type": "code",
   "execution_count": 317,
   "id": "d937bb58-f0de-4f1a-8978-e083b3b57ee1",
   "metadata": {},
   "outputs": [
    {
     "data": {
      "text/plain": [
       "1"
      ]
     },
     "execution_count": 317,
     "metadata": {},
     "output_type": "execute_result"
    }
   ],
   "source": [
    "c and b"
   ]
  },
  {
   "cell_type": "markdown",
   "id": "34f1f3e0-aeee-422a-91f9-839efa5128e0",
   "metadata": {},
   "source": [
    "**列表**"
   ]
  },
  {
   "cell_type": "code",
   "execution_count": 318,
   "id": "66ecc22d-e513-4e8c-a048-c5b8490fd706",
   "metadata": {},
   "outputs": [],
   "source": [
    "list_one = []  # 空列表"
   ]
  },
  {
   "cell_type": "code",
   "execution_count": 319,
   "id": "934a04ba-b7e5-4152-917b-ca8185a28f7e",
   "metadata": {},
   "outputs": [],
   "source": [
    "list_two = [1, 2, 3, False, 'C', []]  # 多类型列表"
   ]
  },
  {
   "cell_type": "code",
   "execution_count": 320,
   "id": "4876daf5-209e-4e98-be41-6c21dd58110b",
   "metadata": {},
   "outputs": [],
   "source": [
    "list_three = [0, 1, 2, 3, 4, 5, 1]"
   ]
  },
  {
   "cell_type": "code",
   "execution_count": 321,
   "id": "337d53bd-32da-41fa-9d3d-acf26aa6639c",
   "metadata": {},
   "outputs": [
    {
     "data": {
      "text/plain": [
       "0"
      ]
     },
     "execution_count": 321,
     "metadata": {},
     "output_type": "execute_result"
    }
   ],
   "source": [
    "list_three[0]"
   ]
  },
  {
   "cell_type": "code",
   "execution_count": 322,
   "id": "63ee0420-bbea-444c-9818-60560044c355",
   "metadata": {},
   "outputs": [
    {
     "data": {
      "text/plain": [
       "1"
      ]
     },
     "execution_count": 322,
     "metadata": {},
     "output_type": "execute_result"
    }
   ],
   "source": [
    "list_three[-1]"
   ]
  },
  {
   "cell_type": "code",
   "execution_count": 323,
   "id": "9ea391c9-a75c-474e-81c1-a9d0ce19fbc4",
   "metadata": {},
   "outputs": [
    {
     "data": {
      "text/plain": [
       "[0, 1, 2, 3]"
      ]
     },
     "execution_count": 323,
     "metadata": {},
     "output_type": "execute_result"
    }
   ],
   "source": [
    "list_three[:-3]"
   ]
  },
  {
   "cell_type": "code",
   "execution_count": 324,
   "id": "1e6308dd-3087-41d8-a225-6d60159be5cd",
   "metadata": {},
   "outputs": [
    {
     "data": {
      "text/plain": [
       "[0, 1, 2, 3, 4, 5, 1]"
      ]
     },
     "execution_count": 324,
     "metadata": {},
     "output_type": "execute_result"
    }
   ],
   "source": [
    "list_three[:]"
   ]
  },
  {
   "cell_type": "code",
   "execution_count": 325,
   "id": "2064d54b-bab7-49a0-a4cd-2b44d33448a8",
   "metadata": {},
   "outputs": [
    {
     "data": {
      "text/plain": [
       "1"
      ]
     },
     "execution_count": 325,
     "metadata": {},
     "output_type": "execute_result"
    }
   ],
   "source": [
    "list_three.index(1)"
   ]
  },
  {
   "cell_type": "code",
   "execution_count": 326,
   "id": "2919fdb8-411e-4ae5-a238-90dfa7732003",
   "metadata": {},
   "outputs": [
    {
     "data": {
      "text/plain": [
       "2"
      ]
     },
     "execution_count": 326,
     "metadata": {},
     "output_type": "execute_result"
    }
   ],
   "source": [
    "list_three.count(1)"
   ]
  },
  {
   "cell_type": "code",
   "execution_count": 327,
   "id": "dce1f7f2-68f8-40a3-bdf8-686ad1430769",
   "metadata": {},
   "outputs": [
    {
     "data": {
      "text/plain": [
       "1"
      ]
     },
     "execution_count": 327,
     "metadata": {},
     "output_type": "execute_result"
    }
   ],
   "source": [
    "list_three.pop()"
   ]
  },
  {
   "cell_type": "code",
   "execution_count": 328,
   "id": "06e13bee-ac35-4340-8309-135e16e7a5e6",
   "metadata": {},
   "outputs": [
    {
     "data": {
      "text/plain": [
       "[0, 1, 2, 3, 4, 5]"
      ]
     },
     "execution_count": 328,
     "metadata": {},
     "output_type": "execute_result"
    }
   ],
   "source": [
    "list_three"
   ]
  },
  {
   "cell_type": "code",
   "execution_count": 329,
   "id": "c7b05c1e-1ad0-4536-8be4-99f98f6b1f6d",
   "metadata": {},
   "outputs": [
    {
     "name": "stdout",
     "output_type": "stream",
     "text": [
      "None\n"
     ]
    }
   ],
   "source": [
    "print(list_three.remove(3))"
   ]
  },
  {
   "cell_type": "code",
   "execution_count": 330,
   "id": "fb2a3840-0e80-4c68-9ee7-8864c14d3404",
   "metadata": {},
   "outputs": [],
   "source": [
    "list_three.clear()"
   ]
  },
  {
   "cell_type": "code",
   "execution_count": 331,
   "id": "dac265fc-7245-4934-935a-e9a1ecfec3ff",
   "metadata": {},
   "outputs": [
    {
     "data": {
      "text/plain": [
       "[]"
      ]
     },
     "execution_count": 331,
     "metadata": {},
     "output_type": "execute_result"
    }
   ],
   "source": [
    "list_three"
   ]
  },
  {
   "cell_type": "code",
   "execution_count": 332,
   "id": "c7b8d156-7262-4abe-a103-ae9764355af5",
   "metadata": {},
   "outputs": [],
   "source": [
    "a = [i for i in range(5)]"
   ]
  },
  {
   "cell_type": "code",
   "execution_count": 333,
   "id": "01f4cfaa-2aa6-4afd-b2e9-176aa02d253c",
   "metadata": {},
   "outputs": [
    {
     "data": {
      "text/plain": [
       "[0, 1, 2, 3, 4]"
      ]
     },
     "execution_count": 333,
     "metadata": {},
     "output_type": "execute_result"
    }
   ],
   "source": [
    "a"
   ]
  },
  {
   "cell_type": "code",
   "execution_count": 334,
   "id": "23e73026-b30e-4b01-a1f9-b3c92278ee20",
   "metadata": {},
   "outputs": [],
   "source": [
    "b = [1] * 5"
   ]
  },
  {
   "cell_type": "code",
   "execution_count": 335,
   "id": "44ad217c-69fc-40f4-ad91-a064831a28bf",
   "metadata": {},
   "outputs": [
    {
     "data": {
      "text/plain": [
       "[1, 1, 1, 1, 1]"
      ]
     },
     "execution_count": 335,
     "metadata": {},
     "output_type": "execute_result"
    }
   ],
   "source": [
    "b"
   ]
  },
  {
   "cell_type": "code",
   "execution_count": 336,
   "id": "1e9eac09-d25b-4b00-9957-1686b71d8708",
   "metadata": {},
   "outputs": [],
   "source": [
    "str_list = [i.upper() for i in 'Hello world' if i != ' ']"
   ]
  },
  {
   "cell_type": "code",
   "execution_count": 337,
   "id": "73f0d1d9-7965-42be-9722-baa0727fb7a2",
   "metadata": {},
   "outputs": [
    {
     "data": {
      "text/plain": [
       "['H', 'E', 'L', 'L', 'O', 'W', 'O', 'R', 'L', 'D']"
      ]
     },
     "execution_count": 337,
     "metadata": {},
     "output_type": "execute_result"
    }
   ],
   "source": [
    "str_list"
   ]
  },
  {
   "cell_type": "markdown",
   "id": "f96b4b61-f3bc-4549-9bd0-fdcef4ce503c",
   "metadata": {},
   "source": [
    "**元组**"
   ]
  },
  {
   "cell_type": "markdown",
   "id": "afac4a75-1a10-4886-825c-aa2d31d3ceb3",
   "metadata": {},
   "source": [
    "元组不可以改变："
   ]
  },
  {
   "cell_type": "code",
   "execution_count": 338,
   "id": "c5933afe-1eec-48e4-b6db-43c1918ab610",
   "metadata": {},
   "outputs": [],
   "source": [
    "set_a = (1, 2, 3, 4)"
   ]
  },
  {
   "cell_type": "code",
   "execution_count": 339,
   "id": "ebf703e3-5f09-48a4-84ea-c3d1e04009ae",
   "metadata": {},
   "outputs": [],
   "source": [
    "# set_a[0] = 2  # 将会出错"
   ]
  },
  {
   "cell_type": "code",
   "execution_count": 340,
   "id": "78b1e3e3-37f8-49e0-9725-fd01275b70e2",
   "metadata": {},
   "outputs": [],
   "source": [
    "set_a = (5, 6, 7, 8)"
   ]
  },
  {
   "cell_type": "code",
   "execution_count": 341,
   "id": "c7bbcf9a-9ba1-4b1e-980e-6f3ce44d8327",
   "metadata": {},
   "outputs": [
    {
     "data": {
      "text/plain": [
       "(5, 6, 7, 8)"
      ]
     },
     "execution_count": 341,
     "metadata": {},
     "output_type": "execute_result"
    }
   ],
   "source": [
    "set_a"
   ]
  },
  {
   "cell_type": "markdown",
   "id": "71a9d7ba-2c68-482f-929f-dc235d3390c4",
   "metadata": {},
   "source": [
    "实际上我们创建了一个新的元组，然后将set_a指向了这个新的元组。"
   ]
  },
  {
   "cell_type": "markdown",
   "id": "4a07a839-bf21-4572-b90d-a41bde96239b",
   "metadata": {},
   "source": [
    "**字典**"
   ]
  },
  {
   "cell_type": "markdown",
   "id": "fca4d9d3-66d5-4c8d-8950-b68edb88f2d2",
   "metadata": {},
   "source": [
    "字典是Python重要的数据结构，由键值对组成。"
   ]
  },
  {
   "cell_type": "code",
   "execution_count": 342,
   "id": "fd6e4100-e97e-497c-908c-4017d526b0e3",
   "metadata": {},
   "outputs": [],
   "source": [
    "dic = {}  # 一个空字典"
   ]
  },
  {
   "cell_type": "code",
   "execution_count": 343,
   "id": "c441efa8-418d-422c-8cd6-0fb5dce4f9aa",
   "metadata": {},
   "outputs": [],
   "source": [
    "dic['key_one'] = 'value_one'  # 则会添加一个新的键值对到字典中"
   ]
  },
  {
   "cell_type": "code",
   "execution_count": 344,
   "id": "46dea4aa-ad72-46e0-8c26-885c45b13955",
   "metadata": {},
   "outputs": [
    {
     "data": {
      "text/plain": [
       "{'key_one': 'value_one'}"
      ]
     },
     "execution_count": 344,
     "metadata": {},
     "output_type": "execute_result"
    }
   ],
   "source": [
    "dic"
   ]
  },
  {
   "cell_type": "code",
   "execution_count": 345,
   "id": "3cbefe35-d0ac-4aea-a956-35e4391915ac",
   "metadata": {},
   "outputs": [],
   "source": [
    "# dic[1]  # 字典没有索引，所以这会报错"
   ]
  },
  {
   "cell_type": "code",
   "execution_count": 346,
   "id": "fbea9907-5521-47d0-b35b-312e55e69cf9",
   "metadata": {},
   "outputs": [],
   "source": [
    "dic_two = {'Tom':'20', 'Bob':'25'}"
   ]
  },
  {
   "cell_type": "code",
   "execution_count": 347,
   "id": "0658a309-65e0-4965-a06d-74d12622a64c",
   "metadata": {},
   "outputs": [
    {
     "data": {
      "text/plain": [
       "'20'"
      ]
     },
     "execution_count": 347,
     "metadata": {},
     "output_type": "execute_result"
    }
   ],
   "source": [
    "dic_two.pop('Tom')"
   ]
  },
  {
   "cell_type": "code",
   "execution_count": 348,
   "id": "a8f75590-86d0-4d3c-bb8f-81e316bc1116",
   "metadata": {},
   "outputs": [
    {
     "data": {
      "text/plain": [
       "{'Bob': '25'}"
      ]
     },
     "execution_count": 348,
     "metadata": {},
     "output_type": "execute_result"
    }
   ],
   "source": [
    "dic_two"
   ]
  },
  {
   "cell_type": "code",
   "execution_count": 349,
   "id": "b2650ded-065a-47dd-9e56-30c7a0055a1b",
   "metadata": {},
   "outputs": [
    {
     "data": {
      "text/plain": [
       "dict_keys(['Bob'])"
      ]
     },
     "execution_count": 349,
     "metadata": {},
     "output_type": "execute_result"
    }
   ],
   "source": [
    "dic_two.keys()  # 列出所有的键"
   ]
  },
  {
   "cell_type": "code",
   "execution_count": 350,
   "id": "f6694106-570b-415c-b595-0286e37bdbf7",
   "metadata": {},
   "outputs": [
    {
     "data": {
      "text/plain": [
       "dict_values(['25'])"
      ]
     },
     "execution_count": 350,
     "metadata": {},
     "output_type": "execute_result"
    }
   ],
   "source": [
    "dic_two.values()  # 列出所有的值"
   ]
  },
  {
   "cell_type": "code",
   "execution_count": 351,
   "id": "d985c08c-0a4b-4a2a-92e5-a81a4a9fdf24",
   "metadata": {},
   "outputs": [
    {
     "data": {
      "text/plain": [
       "dict_items([('Bob', '25')])"
      ]
     },
     "execution_count": 351,
     "metadata": {},
     "output_type": "execute_result"
    }
   ],
   "source": [
    "dic_two.items()  # 列出所有的键值对"
   ]
  },
  {
   "cell_type": "code",
   "execution_count": 352,
   "id": "5707e246-67d0-4c11-864d-ac7fdd60f7ae",
   "metadata": {},
   "outputs": [],
   "source": [
    "dic_first = {'a':'1', 'b':'2'}\n",
    "dic_second = {'c':'3', 'd':'4'}"
   ]
  },
  {
   "cell_type": "code",
   "execution_count": 353,
   "id": "5b8c8f9c-db29-4a2f-a12d-fc4ee893c894",
   "metadata": {},
   "outputs": [],
   "source": [
    "dic_first.update(dic_second)  # 将dic_secon添加到dic_first中"
   ]
  },
  {
   "cell_type": "code",
   "execution_count": 354,
   "id": "296cc8c2-0164-4670-abfd-14f384b6841e",
   "metadata": {},
   "outputs": [
    {
     "data": {
      "text/plain": [
       "{'a': '1', 'b': '2', 'c': '3', 'd': '4'}"
      ]
     },
     "execution_count": 354,
     "metadata": {},
     "output_type": "execute_result"
    }
   ],
   "source": [
    "dic_first"
   ]
  },
  {
   "cell_type": "code",
   "execution_count": 355,
   "id": "89714ab2-2ca6-4da1-a3c4-b97d711fdb0b",
   "metadata": {},
   "outputs": [
    {
     "data": {
      "text/plain": [
       "'d'"
      ]
     },
     "execution_count": 355,
     "metadata": {},
     "output_type": "execute_result"
    }
   ],
   "source": [
    "max(dic_first)  # 最大的键"
   ]
  },
  {
   "cell_type": "code",
   "execution_count": 356,
   "id": "5ba2a278-377a-46f0-9c24-14bf6e406788",
   "metadata": {},
   "outputs": [
    {
     "data": {
      "text/plain": [
       "'a'"
      ]
     },
     "execution_count": 356,
     "metadata": {},
     "output_type": "execute_result"
    }
   ],
   "source": [
    "min(dic_first)  # 最小的键"
   ]
  },
  {
   "cell_type": "code",
   "execution_count": 357,
   "id": "c96a2123-7811-4366-b0de-df49442b8202",
   "metadata": {},
   "outputs": [
    {
     "data": {
      "text/plain": [
       "'4'"
      ]
     },
     "execution_count": 357,
     "metadata": {},
     "output_type": "execute_result"
    }
   ],
   "source": [
    "max(dic_first.values())"
   ]
  },
  {
   "cell_type": "markdown",
   "id": "8686e8b2-ea93-4bb2-8198-ec93c6b736f4",
   "metadata": {},
   "source": [
    "**集合**"
   ]
  },
  {
   "cell_type": "markdown",
   "id": "b615ebc9-13e7-4850-ba02-36cb94e9921c",
   "metadata": {},
   "source": [
    "集合（set）是存放无顺序、无索引内容的容器。"
   ]
  },
  {
   "cell_type": "code",
   "execution_count": 358,
   "id": "179ab644-54b3-495b-a6cd-7942828dacaf",
   "metadata": {},
   "outputs": [],
   "source": [
    "s = set()  # 空集合"
   ]
  },
  {
   "cell_type": "code",
   "execution_count": 359,
   "id": "74138128-3ef3-4d49-ad3a-b469b29568d2",
   "metadata": {},
   "outputs": [],
   "source": [
    "s.add(2)"
   ]
  },
  {
   "cell_type": "code",
   "execution_count": 360,
   "id": "76c2153a-7ec8-430b-a65d-5e50987fbf00",
   "metadata": {},
   "outputs": [],
   "source": [
    "s.add(3)"
   ]
  },
  {
   "cell_type": "code",
   "execution_count": 361,
   "id": "aa848623-de0e-4d02-8c47-57b0f20c617e",
   "metadata": {},
   "outputs": [],
   "source": [
    "s.add(4)"
   ]
  },
  {
   "cell_type": "code",
   "execution_count": 362,
   "id": "65c05042-2c99-472c-9bd1-a0f3366aa3f9",
   "metadata": {},
   "outputs": [
    {
     "data": {
      "text/plain": [
       "{2, 3, 4}"
      ]
     },
     "execution_count": 362,
     "metadata": {},
     "output_type": "execute_result"
    }
   ],
   "source": [
    "s"
   ]
  },
  {
   "cell_type": "code",
   "execution_count": 363,
   "id": "c2a38bc5-0130-4d51-b991-235a327ff94c",
   "metadata": {},
   "outputs": [],
   "source": [
    "s.update([5, 6, 7])"
   ]
  },
  {
   "cell_type": "code",
   "execution_count": 364,
   "id": "c585b6e1-7d36-44f3-bb0b-87aa3263d2a4",
   "metadata": {},
   "outputs": [
    {
     "data": {
      "text/plain": [
       "{2, 3, 4, 5, 6, 7}"
      ]
     },
     "execution_count": 364,
     "metadata": {},
     "output_type": "execute_result"
    }
   ],
   "source": [
    "s"
   ]
  },
  {
   "cell_type": "code",
   "execution_count": 365,
   "id": "76159c35-55f0-424a-943a-9f6aa75e4f53",
   "metadata": {},
   "outputs": [],
   "source": [
    "s.remove(2)  # 删除元素"
   ]
  },
  {
   "cell_type": "code",
   "execution_count": 366,
   "id": "3caf3f5d-1ca3-41c0-b5ae-6cc31147ad62",
   "metadata": {},
   "outputs": [
    {
     "data": {
      "text/plain": [
       "{3, 4, 5, 6, 7}"
      ]
     },
     "execution_count": 366,
     "metadata": {},
     "output_type": "execute_result"
    }
   ],
   "source": [
    "s"
   ]
  },
  {
   "cell_type": "code",
   "execution_count": 367,
   "id": "2c0962b8-a8c6-480c-ba56-1a9f0fcdb0e4",
   "metadata": {},
   "outputs": [
    {
     "data": {
      "text/plain": [
       "True"
      ]
     },
     "execution_count": 367,
     "metadata": {},
     "output_type": "execute_result"
    }
   ],
   "source": [
    "3 in s  # 判断3是否在s中"
   ]
  },
  {
   "cell_type": "code",
   "execution_count": 368,
   "id": "5bb7de6c-4991-45e1-b849-4eeec4649030",
   "metadata": {},
   "outputs": [],
   "source": [
    "# s.remove(2)  # 2已经被删除了，所以会报错"
   ]
  },
  {
   "cell_type": "code",
   "execution_count": 369,
   "id": "3fe0cfac-f9af-42ae-9b0b-62e1c6377cd3",
   "metadata": {},
   "outputs": [],
   "source": [
    "s.discard(2)  # 删除2,如果没有2则不会报错"
   ]
  },
  {
   "cell_type": "markdown",
   "id": "ab1e8363-1834-4aa3-bbeb-8753e75091b2",
   "metadata": {},
   "source": [
    "## 2.3 Nuumpy"
   ]
  },
  {
   "cell_type": "markdown",
   "id": "32df8794-ba74-492d-96d8-027d6b00fcc5",
   "metadata": {},
   "source": [
    "NumPy是Python的一个高性能矩阵运算的科学计算库。\n",
    "\n",
    "官网：https://numpy.org\n",
    "\n",
    "命令行下载：\n",
    "\n",
    "```\n",
    "pip3 install numpy\n",
    "```\n",
    "\n",
    "NumPy提供了两个基本的对象:\n",
    "\n",
    "1. ndarray：存储数据的多维数组。\n",
    "2. ufunc：对数组进行处理的函数。\n",
    "\n",
    "由于NumPy对数据进行向量化描述，没有任何显式的循环操作，所以执行速度更快，代码更加简洁优雅，出错率更低。"
   ]
  },
  {
   "attachments": {
    "6a4bcc8f-cdb5-4fc6-bf5a-ea3d094c7595.png": {
     "image/png": "[encoded data removed]"
    }
   },
   "cell_type": "markdown",
   "id": "591a3f45-a03e-437e-a977-3d6f0256c393",
   "metadata": {},
   "source": [
    "这是numpy提供的一维到三维的数组：\n",
    "\n",
    "![image.png](attachment:6a4bcc8f-cdb5-4fc6-bf5a-ea3d094c7595.png)"
   ]
  },
  {
   "cell_type": "markdown",
   "id": "f37d607d-e7b2-4c0b-a727-1e26374bf3e1",
   "metadata": {},
   "source": [
    "ndarray对数据向量化，利用隐式逐元素方式的广播机制进行算术运算、逻辑运算、位运算、函数调用等，可以快速、批量地处理数据。"
   ]
  },
  {
   "cell_type": "code",
   "execution_count": 370,
   "id": "1c8493cc-4013-4d26-a0b7-c150ad528448",
   "metadata": {},
   "outputs": [
    {
     "data": {
      "text/plain": [
       "array([1, 2, 3])"
      ]
     },
     "execution_count": 370,
     "metadata": {},
     "output_type": "execute_result"
    }
   ],
   "source": [
    "import numpy as np  # 导入numpy，别名为np\n",
    "\n",
    "np.array([1, 2, 3])"
   ]
  },
  {
   "cell_type": "code",
   "execution_count": 371,
   "id": "bfaedeea-3815-4bfc-9f12-e55a85e73571",
   "metadata": {},
   "outputs": [
    {
     "data": {
      "text/plain": [
       "array([0, 1, 2, 3, 4, 5, 6, 7, 8, 9])"
      ]
     },
     "execution_count": 371,
     "metadata": {},
     "output_type": "execute_result"
    }
   ],
   "source": [
    "np.arange(10)  # 0开始，10结束，不包括10"
   ]
  },
  {
   "cell_type": "code",
   "execution_count": 372,
   "id": "df1b5406-e857-41f8-8bd7-14a65836928e",
   "metadata": {},
   "outputs": [
    {
     "data": {
      "text/plain": [
       "array([3. , 3.1, 3.2, 3.3, 3.4, 3.5, 3.6, 3.7, 3.8, 3.9, 4. , 4.1, 4.2,\n",
       "       4.3, 4.4, 4.5, 4.6, 4.7, 4.8, 4.9, 5. , 5.1, 5.2, 5.3, 5.4, 5.5,\n",
       "       5.6, 5.7, 5.8, 5.9, 6. , 6.1, 6.2, 6.3, 6.4, 6.5, 6.6, 6.7, 6.8,\n",
       "       6.9, 7. , 7.1, 7.2, 7.3, 7.4, 7.5, 7.6, 7.7, 7.8, 7.9, 8. , 8.1,\n",
       "       8.2, 8.3, 8.4, 8.5, 8.6, 8.7, 8.8, 8.9, 9. , 9.1, 9.2, 9.3, 9.4,\n",
       "       9.5, 9.6, 9.7, 9.8, 9.9])"
      ]
     },
     "execution_count": 372,
     "metadata": {},
     "output_type": "execute_result"
    }
   ],
   "source": [
    "np.arange(3, 10, 0.1) # 从3到9，步长为0.1"
   ]
  },
  {
   "cell_type": "code",
   "execution_count": 373,
   "id": "2d94bc5a-b06f-452c-b912-a412321fc334",
   "metadata": {},
   "outputs": [
    {
     "data": {
      "text/plain": [
       "array([2. , 2.2, 2.4, 2.6, 2.8])"
      ]
     },
     "execution_count": 373,
     "metadata": {},
     "output_type": "execute_result"
    }
   ],
   "source": [
    "np.linspace(2.0, 3.0, num=5, endpoint=False)"
   ]
  },
  {
   "cell_type": "code",
   "execution_count": 374,
   "id": "1f78ef4d-f641-4e7c-b3d4-471463468234",
   "metadata": {},
   "outputs": [
    {
     "data": {
      "text/plain": [
       "array([[ 0.09028643, -1.45237571, -0.9549519 ,  0.06959   ],\n",
       "       [ 1.65346022,  1.31625302,  1.79695562, -0.21583144],\n",
       "       [-0.32943825,  0.51746142, -0.96485137, -0.86069129],\n",
       "       [ 0.24250825, -0.8637333 , -1.67541643,  0.34601119],\n",
       "       [-1.76417589, -0.00771905,  0.72252764, -2.78691207],\n",
       "       [ 0.34538412, -1.1351775 , -1.05473213,  0.08841745]])"
      ]
     },
     "execution_count": 374,
     "metadata": {},
     "output_type": "execute_result"
    }
   ],
   "source": [
    "np.random.randn(6, 4)  # 返回一个6×4的随机数组，浮点型"
   ]
  },
  {
   "cell_type": "code",
   "execution_count": 375,
   "id": "c1077d87-fd6d-434a-8f79-174710ebf591",
   "metadata": {},
   "outputs": [
    {
     "data": {
      "text/plain": [
       "array([[6, 5, 4, 5],\n",
       "       [5, 6, 6, 6]])"
      ]
     },
     "execution_count": 375,
     "metadata": {},
     "output_type": "execute_result"
    }
   ],
   "source": [
    "# 指定范围、指定形状的数组，整型\n",
    "np.random.randint(3, 7, size=(2, 4))"
   ]
  },
  {
   "cell_type": "code",
   "execution_count": 376,
   "id": "63ee4e99-57bd-4dc9-a233-1ad32d02c6c3",
   "metadata": {},
   "outputs": [
    {
     "data": {
      "text/plain": [
       "array([0., 0., 0., 0., 0., 0.])"
      ]
     },
     "execution_count": 376,
     "metadata": {},
     "output_type": "execute_result"
    }
   ],
   "source": [
    "# 创建值为0的数组\n",
    "np.zeros(6) # 6个浮点0."
   ]
  },
  {
   "cell_type": "code",
   "execution_count": 377,
   "id": "56c58654-9559-4d17-b071-32ddc2c00020",
   "metadata": {},
   "outputs": [
    {
     "data": {
      "text/plain": [
       "array([1., 1., 1., 1.])"
      ]
     },
     "execution_count": 377,
     "metadata": {},
     "output_type": "execute_result"
    }
   ],
   "source": [
    "np.ones(4)"
   ]
  },
  {
   "cell_type": "code",
   "execution_count": 378,
   "id": "c33ec8fd-d98e-4900-93b4-7e1962256425",
   "metadata": {},
   "outputs": [
    {
     "data": {
      "text/plain": [
       "array([1., 1., 1., 1.])"
      ]
     },
     "execution_count": 378,
     "metadata": {},
     "output_type": "execute_result"
    }
   ],
   "source": [
    "np.empty(4) # 同上"
   ]
  },
  {
   "cell_type": "markdown",
   "id": "0f9d08fd-de59-4748-8daa-d03ffc595d1b",
   "metadata": {},
   "source": [
    "## 2.4 Pandas的数据结构"
   ]
  },
  {
   "cell_type": "markdown",
   "id": "6ab4f61c-31e9-4fbf-8c2b-5929242b64c3",
   "metadata": {},
   "source": [
    "**Pandas的数据结构**"
   ]
  },
  {
   "cell_type": "markdown",
   "id": "5248bf5a-3f39-483c-97bb-fc9587dd8904",
   "metadata": {},
   "source": [
    "Pandas提供Series和DataFrame作为数组数据的存储框架。"
   ]
  },
  {
   "attachments": {
    "e08b788b-241f-4323-8c01-269adeca25be.png": {
     "image/png": "[encoded data removed]"
    }
   },
   "cell_type": "markdown",
   "id": "e8ec8759-775f-4016-b9e4-899fb52b9a85",
   "metadata": {},
   "source": [
    "如图为两者的特点：\n",
    "\n",
    "![image.png](attachment:e08b788b-241f-4323-8c01-269adeca25be.png)"
   ]
  },
  {
   "cell_type": "markdown",
   "id": "1265a4b5-5e95-4e73-a2d1-9dfd8947fcd5",
   "metadata": {},
   "source": [
    "**Series**"
   ]
  },
  {
   "cell_type": "markdown",
   "id": "2cc4211d-a0f1-42e9-aa66-da6b61c772b3",
   "metadata": {},
   "source": [
    "Series（系列、数列、序列）是一个带有标签的一维数组。"
   ]
  },
  {
   "cell_type": "markdown",
   "id": "18aac5d9-1734-4782-b752-7be20abdb2f7",
   "metadata": {},
   "source": [
    "```\n",
    "中国 14.34\n",
    "美国 21.43\n",
    "日本 5.08\n",
    "dtype: float64\n",
    "```"
   ]
  },
  {
   "cell_type": "markdown",
   "id": "8d2d7f8f-9c6d-4e07-8016-18c0b47f5b01",
   "metadata": {},
   "source": [
    "其中，国家是标签（也称索引），不是具体的数据，它起到解释、定位数据的作用。\n",
    "\n",
    "Series是Pandas最基础的数据结构。"
   ]
  },
  {
   "cell_type": "markdown",
   "id": "63c96253-1a8a-41d4-a13d-3fcf55dab9f6",
   "metadata": {},
   "source": [
    "**DataFrame**"
   ]
  },
  {
   "cell_type": "markdown",
   "id": "5e25a1e4-e3e8-47e0-8ae0-b1564713cdc8",
   "metadata": {},
   "source": [
    "DataFrame意为数据框，它就像一个存放数据的架子，有多行多列，每个数据在一个格子里，每个格子有自己的编号。"
   ]
  },
  {
   "attachments": {
    "f632dbc0-6a67-478b-a438-7f0569d2760b.png": {
     "image/png": "[encoded data removed]"
    }
   },
   "cell_type": "markdown",
   "id": "5bae2aad-b94a-41ab-9d42-d9d2f0af8d60",
   "metadata": {},
   "source": [
    "DataFrame是Pandas定义的一个二维数据结构，其结构如图:\n",
    "\n",
    "![image.png](attachment:f632dbc0-6a67-478b-a438-7f0569d2760b.png)"
   ]
  },
  {
   "cell_type": "markdown",
   "id": "aec8acfc-3e34-42e6-a925-d6e5218eb3e1",
   "metadata": {},
   "source": [
    "它的结构：\n",
    "\n",
    "- 横向的称作行（row），我们所说的一条数据就是指其中的一行；\n",
    "- 纵向的称作列（column）或者字段，是一条数据的某个值；\n",
    "- 第一行是表头，或者叫字段名，类似于Python字典里的键，代表数据的属性；\n",
    "- 第一列是索引，就是这行数据所描述的主体，也是这条数据的关键；\n",
    "- 在一些场景下，表头和索引也称为列索引和行索引；\n",
    "- 行索引和列索引可能会出现多层索引的情况（后面会遇到）。\n",
    "\n"
   ]
  },
  {
   "cell_type": "markdown",
   "id": "0dd5a55c-5d41-4bbb-b7fe-5ba56fe66207",
   "metadata": {},
   "source": [
    "## 2.5 Pandas生成数据"
   ]
  },
  {
   "cell_type": "markdown",
   "id": "97557886-824c-43e6-ada2-956d3ee6f103",
   "metadata": {},
   "source": [
    "**导入Pandas**"
   ]
  },
  {
   "cell_type": "code",
   "execution_count": 386,
   "id": "50cf86ce-f618-4d6e-8cbd-8aa74a9160bd",
   "metadata": {},
   "outputs": [],
   "source": [
    "import pandas as pd"
   ]
  },
  {
   "cell_type": "code",
   "execution_count": 387,
   "id": "c903e6e6-801c-4975-bcce-13ebb4c072f7",
   "metadata": {},
   "outputs": [],
   "source": [
    "import numpy as np"
   ]
  },
  {
   "cell_type": "markdown",
   "id": "d074c710-87a5-43ef-a770-57c5197a0c54",
   "metadata": {},
   "source": [
    "**创建数据**"
   ]
  },
  {
   "cell_type": "code",
   "execution_count": 392,
   "id": "d0b603f6-f527-4fa8-844d-cd6c71077539",
   "metadata": {},
   "outputs": [],
   "source": [
    "df = pd.DataFrame({'国家':['中国', '美国', '日本'],\n",
    "                  '地区':['亚洲','北美','亚洲'],\n",
    "                  '人口':[13.79, 3.28, 1.26],\n",
    "                  'GDP':[14.34, 21.42, 5.08],\n",
    "                  })"
   ]
  },
  {
   "cell_type": "code",
   "execution_count": 393,
   "id": "7887b71b-5ab5-4678-bcd8-6ea177c38aca",
   "metadata": {},
   "outputs": [
    {
     "data": {
      "text/html": [
       "<div>\n",
       "<style scoped>\n",
       "    .dataframe tbody tr th:only-of-type {\n",
       "        vertical-align: middle;\n",
       "    }\n",
       "\n",
       "    .dataframe tbody tr th {\n",
       "        vertical-align: top;\n",
       "    }\n",
       "\n",
       "    .dataframe thead th {\n",
       "        text-align: right;\n",
       "    }\n",
       "</style>\n",
       "<table border=\"1\" class=\"dataframe\">\n",
       "  <thead>\n",
       "    <tr style=\"text-align: right;\">\n",
       "      <th></th>\n",
       "      <th>国家</th>\n",
       "      <th>地区</th>\n",
       "      <th>人口</th>\n",
       "      <th>GDP</th>\n",
       "    </tr>\n",
       "  </thead>\n",
       "  <tbody>\n",
       "    <tr>\n",
       "      <th>0</th>\n",
       "      <td>中国</td>\n",
       "      <td>亚洲</td>\n",
       "      <td>13.79</td>\n",
       "      <td>14.34</td>\n",
       "    </tr>\n",
       "    <tr>\n",
       "      <th>1</th>\n",
       "      <td>美国</td>\n",
       "      <td>北美</td>\n",
       "      <td>3.28</td>\n",
       "      <td>21.42</td>\n",
       "    </tr>\n",
       "    <tr>\n",
       "      <th>2</th>\n",
       "      <td>日本</td>\n",
       "      <td>亚洲</td>\n",
       "      <td>1.26</td>\n",
       "      <td>5.08</td>\n",
       "    </tr>\n",
       "  </tbody>\n",
       "</table>\n",
       "</div>"
      ],
      "text/plain": [
       "   国家  地区     人口    GDP\n",
       "0  中国  亚洲  13.79  14.34\n",
       "1  美国  北美   3.28  21.42\n",
       "2  日本  亚洲   1.26   5.08"
      ]
     },
     "execution_count": 393,
     "metadata": {},
     "output_type": "execute_result"
    }
   ],
   "source": [
    "df"
   ]
  },
  {
   "cell_type": "markdown",
   "id": "7603b54f-f703-41d7-8425-4f7e6e3f9815",
   "metadata": {},
   "source": [
    "DataFrame可以容纳Series，所以在定义DataFrame时可以使用Series，也可以利用NumPy的方法。"
   ]
  },
  {
   "cell_type": "code",
   "execution_count": 402,
   "id": "f60ffd00-33cb-4cbf-b1e0-bb1e4800b359",
   "metadata": {},
   "outputs": [],
   "source": [
    "s = pd.Series([14.34, 21.43, 5.08], name='gdp')"
   ]
  },
  {
   "cell_type": "code",
   "execution_count": 403,
   "id": "69b5d181-872e-4fa3-a87a-1c9787e51e41",
   "metadata": {},
   "outputs": [
    {
     "data": {
      "text/plain": [
       "0    14.34\n",
       "1    21.43\n",
       "2     5.08\n",
       "Name: gdp, dtype: float64"
      ]
     },
     "execution_count": 403,
     "metadata": {},
     "output_type": "execute_result"
    }
   ],
   "source": [
    "s"
   ]
  },
  {
   "cell_type": "code",
   "execution_count": 404,
   "id": "9c4ec90c-fbe7-4427-b98d-04845971cb86",
   "metadata": {},
   "outputs": [
    {
     "data": {
      "text/plain": [
       "pandas.core.frame.DataFrame"
      ]
     },
     "execution_count": 404,
     "metadata": {},
     "output_type": "execute_result"
    }
   ],
   "source": [
    "type(df) # pandas.core.frame.DataFrame"
   ]
  },
  {
   "cell_type": "markdown",
   "id": "5e5aa568-1abb-49a6-8244-3e0c5bc2c202",
   "metadata": {},
   "source": [
    "**生成Series**"
   ]
  },
  {
   "cell_type": "markdown",
   "id": "36fca1c3-2670-468a-a69b-5a7de444a1be",
   "metadata": {},
   "source": [
    "Series是一个带有标签的一维数组，这个数组可以由任何类型数据构成，包括整型、浮点、字符、Python对象等。"
   ]
  },
  {
   "cell_type": "code",
   "execution_count": 406,
   "id": "c8ac324b-c54f-4028-b3a1-fe8af901b8b8",
   "metadata": {},
   "outputs": [],
   "source": [
    "# s = pd.Series(data, index=index)  语法"
   ]
  },
  {
   "cell_type": "markdown",
   "id": "4aab0a7b-db14-463f-91b4-859e905bb089",
   "metadata": {},
   "source": [
    "data可以是Python对象、NumPy的ndarray、一个标量（定值，如8）。"
   ]
  },
  {
   "cell_type": "code",
   "execution_count": 408,
   "id": "afdaa30b-86ce-4efa-af14-c346933b56a5",
   "metadata": {},
   "outputs": [
    {
     "data": {
      "text/plain": [
       "0    a\n",
       "1    b\n",
       "2    c\n",
       "3    d\n",
       "4    e\n",
       "dtype: object"
      ]
     },
     "execution_count": 408,
     "metadata": {},
     "output_type": "execute_result"
    }
   ],
   "source": [
    "pd.Series(['a', 'b', 'c', 'd', 'e'])"
   ]
  },
  {
   "cell_type": "code",
   "execution_count": 409,
   "id": "07373a68-a031-49b3-9ff4-fca56a22fc23",
   "metadata": {},
   "outputs": [
    {
     "data": {
      "text/plain": [
       "0    a\n",
       "1    b\n",
       "2    c\n",
       "3    d\n",
       "4    e\n",
       "dtype: object"
      ]
     },
     "execution_count": 409,
     "metadata": {},
     "output_type": "execute_result"
    }
   ],
   "source": [
    "pd.Series(('a', 'b', 'c', 'd', 'e'))"
   ]
  },
  {
   "cell_type": "markdown",
   "id": "8e5e4833-f3ca-432d-8049-159e3abfb932",
   "metadata": {},
   "source": [
    "如下使用NumPy的ndarray结构："
   ]
  },
  {
   "cell_type": "code",
   "execution_count": 410,
   "id": "36d2b9a4-feca-4732-9915-7d3231be463e",
   "metadata": {},
   "outputs": [],
   "source": [
    "# 由索引分别为a、b、c、d、e的5个随机浮点数数组组成\n",
    "s = pd.Series(np.random.randn(5), index=['a', 'b', 'c', 'd', 'e'])"
   ]
  },
  {
   "cell_type": "code",
   "execution_count": 412,
   "id": "c7915c28-c3b5-4f28-bf88-6fbb593578d7",
   "metadata": {},
   "outputs": [
    {
     "data": {
      "text/plain": [
       "Index(['a', 'b', 'c', 'd', 'e'], dtype='object')"
      ]
     },
     "execution_count": 412,
     "metadata": {},
     "output_type": "execute_result"
    }
   ],
   "source": [
    "s.index"
   ]
  },
  {
   "cell_type": "code",
   "execution_count": 413,
   "id": "2e3e2460-8d72-43e0-a845-ade46f64c361",
   "metadata": {},
   "outputs": [
    {
     "data": {
      "text/plain": [
       "a    0.055802\n",
       "b    0.621375\n",
       "c    0.688383\n",
       "d    1.244052\n",
       "e    2.238306\n",
       "dtype: float64"
      ]
     },
     "execution_count": 413,
     "metadata": {},
     "output_type": "execute_result"
    }
   ],
   "source": [
    "s"
   ]
  },
  {
   "cell_type": "code",
   "execution_count": 414,
   "id": "194b17f1-1d5b-4005-806e-3246ea5297f5",
   "metadata": {},
   "outputs": [],
   "source": [
    "d = {'b': 1, 'a': 0, 'c': 2}"
   ]
  },
  {
   "cell_type": "code",
   "execution_count": 415,
   "id": "db6c1874-b498-4524-a708-c41804c32427",
   "metadata": {},
   "outputs": [],
   "source": [
    "s = pd.Series(d)"
   ]
  },
  {
   "cell_type": "code",
   "execution_count": 416,
   "id": "ce175a05-3eea-4335-bed4-094cfa5688af",
   "metadata": {},
   "outputs": [
    {
     "data": {
      "text/plain": [
       "b    1\n",
       "a    0\n",
       "c    2\n",
       "dtype: int64"
      ]
     },
     "execution_count": 416,
     "metadata": {},
     "output_type": "execute_result"
    }
   ],
   "source": [
    "s"
   ]
  },
  {
   "cell_type": "code",
   "execution_count": 417,
   "id": "8edc64bf-946c-4b75-9b87-6630de510aa6",
   "metadata": {},
   "outputs": [
    {
     "data": {
      "text/plain": [
       "b    1.0\n",
       "c    2.0\n",
       "d    NaN\n",
       "a    0.0\n",
       "dtype: float64"
      ]
     },
     "execution_count": 417,
     "metadata": {},
     "output_type": "execute_result"
    }
   ],
   "source": [
    "pd.Series(d, index=['b', 'c', 'd', 'a'])"
   ]
  },
  {
   "cell_type": "markdown",
   "id": "5a80a475-a59c-427f-95df-7bd91dcd73fb",
   "metadata": {},
   "source": [
    "**生成DataFrame**"
   ]
  },
  {
   "cell_type": "markdown",
   "id": "080ad611-994f-457c-aa02-19f3e091c9ee",
   "metadata": {},
   "source": [
    "DataFrame是二维数据结构，数据以行和列的形式排列，表达一定的数据意义。DataFrame的形式类似于CSV、Excel和SQL的结果表，有多个数据列，由多个Series组成。"
   ]
  },
  {
   "cell_type": "code",
   "execution_count": 418,
   "id": "f740e249-d391-4543-8d3f-aded9cd54b06",
   "metadata": {},
   "outputs": [],
   "source": [
    "# DataFrame最基本的定义格式如下：\n",
    "# df = pd.DataFrame(data=None, index=None, columns=None)"
   ]
  },
  {
   "cell_type": "markdown",
   "id": "1b82a4c3-6b6d-4a40-b38d-23adc14e5ddb",
   "metadata": {},
   "source": [
    "以下是其各参数的说明。\n",
    "\n",
    "- data：具体数据，结构化或同构的ndarray、可迭代对象、字典或DataFrame。\n",
    "- index：索引，类似数组的对象，支持解包，如果没有指定，会自动生成RangeIndex (0, 1, 2, …, n)。\n",
    "- columns：列索引、表头，如果没有指定，会自动生成\n",
    "- RangeIndex (0, 1, 2, …, n)。"
   ]
  },
  {
   "cell_type": "markdown",
   "id": "f93796db-ff59-4700-9bc8-c70faf2cbc1f",
   "metadata": {},
   "source": [
    "## Pandas的数据类型"
   ]
  },
  {
   "cell_type": "markdown",
   "id": "e2225303-0df0-426b-be93-5cddf660785e",
   "metadata": {},
   "source": [
    "**查看数据类型**"
   ]
  },
  {
   "cell_type": "code",
   "execution_count": 419,
   "id": "1c17a4a4-0011-4395-8af5-4ac2171249c4",
   "metadata": {},
   "outputs": [],
   "source": [
    "import pandas as pd"
   ]
  },
  {
   "cell_type": "code",
   "execution_count": 420,
   "id": "e2b6e2b7-eaf2-46f3-8b74-dc17d902d18f",
   "metadata": {},
   "outputs": [],
   "source": [
    "df = pd.read_excel('team.xlsx')"
   ]
  },
  {
   "cell_type": "code",
   "execution_count": 421,
   "id": "8ca7b319-5a53-426a-a5a5-30f64aff42c7",
   "metadata": {},
   "outputs": [
    {
     "data": {
      "text/plain": [
       "name    object\n",
       "team    object\n",
       "Q1       int64\n",
       "Q2       int64\n",
       "Q3       int64\n",
       "Q4       int64\n",
       "dtype: object"
      ]
     },
     "execution_count": 421,
     "metadata": {},
     "output_type": "execute_result"
    }
   ],
   "source": [
    "df.dtypes"
   ]
  },
  {
   "cell_type": "markdown",
   "id": "9ce65676-3550-41ac-a6eb-30c3e98db7af",
   "metadata": {},
   "source": [
    "name和team列为object，其他列都是int64。"
   ]
  },
  {
   "cell_type": "code",
   "execution_count": 422,
   "id": "94ba21a8-2f03-4665-ac03-4bc10cc501f8",
   "metadata": {},
   "outputs": [
    {
     "data": {
      "text/plain": [
       "dtype('O')"
      ]
     },
     "execution_count": 422,
     "metadata": {},
     "output_type": "execute_result"
    }
   ],
   "source": [
    "df.team.dtype"
   ]
  },
  {
   "cell_type": "markdown",
   "id": "3a6fd7a4-b633-408a-b5bc-acfee49eb4c6",
   "metadata": {},
   "source": [
    "**数据检测**"
   ]
  },
  {
   "cell_type": "code",
   "execution_count": 423,
   "id": "a8f93971-974c-40e8-9831-2169585cdd76",
   "metadata": {},
   "outputs": [
    {
     "data": {
      "text/plain": [
       "False"
      ]
     },
     "execution_count": 423,
     "metadata": {},
     "output_type": "execute_result"
    }
   ],
   "source": [
    "pd.api.types.is_bool_dtype(s)"
   ]
  },
  {
   "cell_type": "code",
   "execution_count": 424,
   "id": "7a88e681-0d8f-407d-b271-6eda76962214",
   "metadata": {},
   "outputs": [
    {
     "data": {
      "text/plain": [
       "False"
      ]
     },
     "execution_count": 424,
     "metadata": {},
     "output_type": "execute_result"
    }
   ],
   "source": [
    "pd.api.types.is_categorical_dtype(s)"
   ]
  },
  {
   "cell_type": "code",
   "execution_count": 425,
   "id": "d61c150d-3328-4737-8d24-ed17cfb8beda",
   "metadata": {},
   "outputs": [
    {
     "data": {
      "text/plain": [
       "False"
      ]
     },
     "execution_count": 425,
     "metadata": {},
     "output_type": "execute_result"
    }
   ],
   "source": [
    "pd.api.types.is_datetime64_any_dtype(s)"
   ]
  },
  {
   "cell_type": "code",
   "execution_count": 426,
   "id": "607cc5b0-c884-428a-bec4-b804c0281a0d",
   "metadata": {},
   "outputs": [
    {
     "data": {
      "text/plain": [
       "False"
      ]
     },
     "execution_count": 426,
     "metadata": {},
     "output_type": "execute_result"
    }
   ],
   "source": [
    "pd.api.types.is_datetime64_ns_dtype(s)"
   ]
  },
  {
   "cell_type": "code",
   "execution_count": 427,
   "id": "0d2b9e13-c641-40b5-a3b3-552627d68736",
   "metadata": {},
   "outputs": [
    {
     "data": {
      "text/plain": [
       "False"
      ]
     },
     "execution_count": 427,
     "metadata": {},
     "output_type": "execute_result"
    }
   ],
   "source": [
    "pd.api.types.is_datetime64_dtype(s)"
   ]
  },
  {
   "cell_type": "code",
   "execution_count": 428,
   "id": "e4779f82-252c-412c-80b3-b6116b76f2ca",
   "metadata": {},
   "outputs": [
    {
     "data": {
      "text/plain": [
       "False"
      ]
     },
     "execution_count": 428,
     "metadata": {},
     "output_type": "execute_result"
    }
   ],
   "source": [
    "pd.api.types.is_float_dtype(s)"
   ]
  },
  {
   "cell_type": "code",
   "execution_count": 429,
   "id": "88b2489c-df0c-4ad9-a44e-924903f31266",
   "metadata": {},
   "outputs": [
    {
     "data": {
      "text/plain": [
       "True"
      ]
     },
     "execution_count": 429,
     "metadata": {},
     "output_type": "execute_result"
    }
   ],
   "source": [
    "pd.api.types.is_int64_dtype(s)"
   ]
  },
  {
   "cell_type": "code",
   "execution_count": 430,
   "id": "c62f8765-9ed3-4f26-833b-8ee2cca64fab",
   "metadata": {},
   "outputs": [
    {
     "data": {
      "text/plain": [
       "True"
      ]
     },
     "execution_count": 430,
     "metadata": {},
     "output_type": "execute_result"
    }
   ],
   "source": [
    "pd.api.types.is_numeric_dtype(s)"
   ]
  },
  {
   "cell_type": "code",
   "execution_count": 431,
   "id": "59d9c013-7524-4057-8ab4-02a6ea675d3f",
   "metadata": {},
   "outputs": [
    {
     "data": {
      "text/plain": [
       "False"
      ]
     },
     "execution_count": 431,
     "metadata": {},
     "output_type": "execute_result"
    }
   ],
   "source": [
    "pd.api.types.is_object_dtype(s)"
   ]
  },
  {
   "cell_type": "code",
   "execution_count": 432,
   "id": "ddcb484a-0f0d-46d8-8b64-7bb1538bf4fa",
   "metadata": {},
   "outputs": [
    {
     "data": {
      "text/plain": [
       "False"
      ]
     },
     "execution_count": 432,
     "metadata": {},
     "output_type": "execute_result"
    }
   ],
   "source": [
    "pd.api.types.is_string_dtype(s)"
   ]
  },
  {
   "cell_type": "code",
   "execution_count": 433,
   "id": "937888d3-48bf-4b4b-8349-fb93b8fb5d4e",
   "metadata": {},
   "outputs": [
    {
     "data": {
      "text/plain": [
       "False"
      ]
     },
     "execution_count": 433,
     "metadata": {},
     "output_type": "execute_result"
    }
   ],
   "source": [
    "pd.api.types.is_timedelta64_dtype(s)"
   ]
  }
 ],
 "metadata": {
  "kernelspec": {
   "display_name": "Python 3 (ipykernel)",
   "language": "python",
   "name": "python3"
  },
  "language_info": {
   "codemirror_mode": {
    "name": "ipython",
    "version": 3
   },
   "file_extension": ".py",
   "mimetype": "text/x-python",
   "name": "python",
   "nbconvert_exporter": "python",
   "pygments_lexer": "ipython3",
   "version": "3.10.4"
  }
 },
 "nbformat": 4,
 "nbformat_minor": 5
}
